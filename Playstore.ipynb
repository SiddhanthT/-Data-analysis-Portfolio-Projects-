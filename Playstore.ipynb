{
 "cells": [
  {
   "cell_type": "code",
   "execution_count": 1,
   "metadata": {},
   "outputs": [
    {
     "data": {
      "text/html": [
       "<div>\n",
       "<style scoped>\n",
       "    .dataframe tbody tr th:only-of-type {\n",
       "        vertical-align: middle;\n",
       "    }\n",
       "\n",
       "    .dataframe tbody tr th {\n",
       "        vertical-align: top;\n",
       "    }\n",
       "\n",
       "    .dataframe thead th {\n",
       "        text-align: right;\n",
       "    }\n",
       "</style>\n",
       "<table border=\"1\" class=\"dataframe\">\n",
       "  <thead>\n",
       "    <tr style=\"text-align: right;\">\n",
       "      <th></th>\n",
       "      <th>App_Name</th>\n",
       "      <th>Company</th>\n",
       "      <th>Category</th>\n",
       "      <th>Updated</th>\n",
       "      <th>Size</th>\n",
       "      <th>Installs</th>\n",
       "      <th>Current Version</th>\n",
       "      <th>Requires Android</th>\n",
       "      <th>Content Rating</th>\n",
       "      <th>Interactive Elements</th>\n",
       "      <th>Permissions</th>\n",
       "      <th>Report</th>\n",
       "      <th>Offered By</th>\n",
       "      <th>Developer</th>\n",
       "      <th>Logo</th>\n",
       "      <th>In-app Products</th>\n",
       "      <th>Eligible for Family Library</th>\n",
       "    </tr>\n",
       "  </thead>\n",
       "  <tbody>\n",
       "    <tr>\n",
       "      <th>0</th>\n",
       "      <td>Sketchbook</td>\n",
       "      <td>Sketchbook</td>\n",
       "      <td>Art &amp; Design</td>\n",
       "      <td>July 2, 2021</td>\n",
       "      <td>98M</td>\n",
       "      <td>50,000,000+</td>\n",
       "      <td>5.2.5</td>\n",
       "      <td>5.0 and up</td>\n",
       "      <td>EveryoneLearn more</td>\n",
       "      <td>Digital Purchases</td>\n",
       "      <td>View details</td>\n",
       "      <td>ReportFlag as inappropriate</td>\n",
       "      <td>Flag as inappropriate</td>\n",
       "      <td>Sketchbook</td>\n",
       "      <td>https://play-lh.googleusercontent.com/NIhaPLVM...</td>\n",
       "      <td>NaN</td>\n",
       "      <td>NaN</td>\n",
       "    </tr>\n",
       "    <tr>\n",
       "      <th>1</th>\n",
       "      <td>ibis Paint X</td>\n",
       "      <td>ibis inc.</td>\n",
       "      <td>Art &amp; Design</td>\n",
       "      <td>April 21, 2022</td>\n",
       "      <td>25M</td>\n",
       "      <td>100,000,000+</td>\n",
       "      <td>9.4.1</td>\n",
       "      <td>4.4 and up</td>\n",
       "      <td>EveryoneLearn more</td>\n",
       "      <td>Users Interact</td>\n",
       "      <td>View details</td>\n",
       "      <td>ReportFlag as inappropriate</td>\n",
       "      <td>Flag as inappropriate</td>\n",
       "      <td>ibis inc.</td>\n",
       "      <td>https://play-lh.googleusercontent.com/QcfhlXm3...</td>\n",
       "      <td>$2.99 - $27.99 per item</td>\n",
       "      <td>NaN</td>\n",
       "    </tr>\n",
       "    <tr>\n",
       "      <th>2</th>\n",
       "      <td>Tayasui Sketches</td>\n",
       "      <td>Tayasui</td>\n",
       "      <td>Art &amp; Design</td>\n",
       "      <td>April 21, 2022</td>\n",
       "      <td>49M</td>\n",
       "      <td>1,000,000+</td>\n",
       "      <td>1.3.9</td>\n",
       "      <td>4.4W and up</td>\n",
       "      <td>EveryoneLearn more</td>\n",
       "      <td>NaN</td>\n",
       "      <td>View details</td>\n",
       "      <td>ReportFlag as inappropriate</td>\n",
       "      <td>Flag as inappropriate</td>\n",
       "      <td>Tayasui</td>\n",
       "      <td>https://play-lh.googleusercontent.com/ivBDSUQY...</td>\n",
       "      <td>$6.49 per item</td>\n",
       "      <td>NaN</td>\n",
       "    </tr>\n",
       "    <tr>\n",
       "      <th>3</th>\n",
       "      <td>FlipaClip: Create 2D Animation</td>\n",
       "      <td>Visual Blasters LLC</td>\n",
       "      <td>Art &amp; Design</td>\n",
       "      <td>May 16, 2022</td>\n",
       "      <td>128M</td>\n",
       "      <td>10,000,000+</td>\n",
       "      <td>3.0.5</td>\n",
       "      <td>5.0 and up</td>\n",
       "      <td>EveryoneLearn more</td>\n",
       "      <td>In-App Purchases</td>\n",
       "      <td>View details</td>\n",
       "      <td>ReportFlag as inappropriate</td>\n",
       "      <td>Flag as inappropriate</td>\n",
       "      <td>Visual Blasters LLC</td>\n",
       "      <td>https://play-lh.googleusercontent.com/bKq4X_rv...</td>\n",
       "      <td>$0.99 - $9.99 per item</td>\n",
       "      <td>NaN</td>\n",
       "    </tr>\n",
       "    <tr>\n",
       "      <th>4</th>\n",
       "      <td>Drawing Desk: Draw, Paint Art</td>\n",
       "      <td>4Axis Technologies</td>\n",
       "      <td>Art &amp; Design</td>\n",
       "      <td>April 8, 2022</td>\n",
       "      <td>62M</td>\n",
       "      <td>10,000,000+</td>\n",
       "      <td>5.8.7</td>\n",
       "      <td>6.0 and up</td>\n",
       "      <td>EveryoneLearn more</td>\n",
       "      <td>In-App Purchases</td>\n",
       "      <td>View details</td>\n",
       "      <td>ReportFlag as inappropriate</td>\n",
       "      <td>Flag as inappropriate</td>\n",
       "      <td>4Axis Technologies</td>\n",
       "      <td>https://play-lh.googleusercontent.com/cZXYPm7U...</td>\n",
       "      <td>$0.99 - $29.99 per item</td>\n",
       "      <td>NaN</td>\n",
       "    </tr>\n",
       "  </tbody>\n",
       "</table>\n",
       "</div>"
      ],
      "text/plain": [
       "                         App_Name              Company      Category  \\\n",
       "0                      Sketchbook           Sketchbook  Art & Design   \n",
       "1                    ibis Paint X            ibis inc.  Art & Design   \n",
       "2                Tayasui Sketches              Tayasui  Art & Design   \n",
       "3  FlipaClip: Create 2D Animation  Visual Blasters LLC  Art & Design   \n",
       "4   Drawing Desk: Draw, Paint Art   4Axis Technologies  Art & Design   \n",
       "\n",
       "          Updated  Size      Installs Current Version Requires Android  \\\n",
       "0    July 2, 2021   98M   50,000,000+           5.2.5       5.0 and up   \n",
       "1  April 21, 2022   25M  100,000,000+           9.4.1       4.4 and up   \n",
       "2  April 21, 2022   49M    1,000,000+           1.3.9      4.4W and up   \n",
       "3    May 16, 2022  128M   10,000,000+           3.0.5       5.0 and up   \n",
       "4   April 8, 2022   62M   10,000,000+           5.8.7       6.0 and up   \n",
       "\n",
       "       Content Rating Interactive Elements   Permissions  \\\n",
       "0  EveryoneLearn more    Digital Purchases  View details   \n",
       "1  EveryoneLearn more       Users Interact  View details   \n",
       "2  EveryoneLearn more                  NaN  View details   \n",
       "3  EveryoneLearn more     In-App Purchases  View details   \n",
       "4  EveryoneLearn more     In-App Purchases  View details   \n",
       "\n",
       "                        Report             Offered By            Developer  \\\n",
       "0  ReportFlag as inappropriate  Flag as inappropriate           Sketchbook   \n",
       "1  ReportFlag as inappropriate  Flag as inappropriate            ibis inc.   \n",
       "2  ReportFlag as inappropriate  Flag as inappropriate              Tayasui   \n",
       "3  ReportFlag as inappropriate  Flag as inappropriate  Visual Blasters LLC   \n",
       "4  ReportFlag as inappropriate  Flag as inappropriate   4Axis Technologies   \n",
       "\n",
       "                                                Logo          In-app Products  \\\n",
       "0  https://play-lh.googleusercontent.com/NIhaPLVM...                      NaN   \n",
       "1  https://play-lh.googleusercontent.com/QcfhlXm3...  $2.99 - $27.99 per item   \n",
       "2  https://play-lh.googleusercontent.com/ivBDSUQY...           $6.49 per item   \n",
       "3  https://play-lh.googleusercontent.com/bKq4X_rv...   $0.99 - $9.99 per item   \n",
       "4  https://play-lh.googleusercontent.com/cZXYPm7U...  $0.99 - $29.99 per item   \n",
       "\n",
       "  Eligible for Family Library  \n",
       "0                         NaN  \n",
       "1                         NaN  \n",
       "2                         NaN  \n",
       "3                         NaN  \n",
       "4                         NaN  "
      ]
     },
     "execution_count": 1,
     "metadata": {},
     "output_type": "execute_result"
    }
   ],
   "source": [
    "import numpy as np \n",
    "import pandas as pd\n",
    "import matplotlib.pyplot as plt\n",
    "\n",
    "df = pd.read_csv(\"~/Downloads/PlayStore_Apps.csv\")\n",
    "df.head()"
   ]
  },
  {
   "cell_type": "code",
   "execution_count": 2,
   "metadata": {},
   "outputs": [],
   "source": [
    "df = df.drop(['Logo','Eligible for Family Library'],axis = 1)"
   ]
  },
  {
   "cell_type": "code",
   "execution_count": 3,
   "metadata": {},
   "outputs": [
    {
     "name": "stdout",
     "output_type": "stream",
     "text": [
      "(4739, 15)\n",
      "<class 'pandas.core.frame.DataFrame'>\n",
      "RangeIndex: 4739 entries, 0 to 4738\n",
      "Data columns (total 15 columns):\n",
      " #   Column                Non-Null Count  Dtype \n",
      "---  ------                --------------  ----- \n",
      " 0   App_Name              4739 non-null   object\n",
      " 1   Company               4739 non-null   object\n",
      " 2   Category              4739 non-null   object\n",
      " 3   Updated               4739 non-null   object\n",
      " 4   Size                  4739 non-null   object\n",
      " 5   Installs              4735 non-null   object\n",
      " 6   Current Version       4738 non-null   object\n",
      " 7   Requires Android      4739 non-null   object\n",
      " 8   Content Rating        4739 non-null   object\n",
      " 9   Interactive Elements  2774 non-null   object\n",
      " 10  Permissions           4739 non-null   object\n",
      " 11  Report                4739 non-null   object\n",
      " 12  Offered By            4739 non-null   object\n",
      " 13  Developer             4739 non-null   object\n",
      " 14  In-app Products       3007 non-null   object\n",
      "dtypes: object(15)\n",
      "memory usage: 555.5+ KB\n",
      "None\n",
      "App_Name                   0\n",
      "Company                    0\n",
      "Category                   0\n",
      "Updated                    0\n",
      "Size                       0\n",
      "Installs                   4\n",
      "Current Version            1\n",
      "Requires Android           0\n",
      "Content Rating             0\n",
      "Interactive Elements    1965\n",
      "Permissions                0\n",
      "Report                     0\n",
      "Offered By                 0\n",
      "Developer                  0\n",
      "In-app Products         1732\n",
      "dtype: int64\n"
     ]
    }
   ],
   "source": [
    "print(df.shape)\n",
    "print(df.info())\n",
    "print(df.isnull().sum())"
   ]
  },
  {
   "cell_type": "code",
   "execution_count": null,
   "metadata": {},
   "outputs": [],
   "source": [
    "# Pre-Processing "
   ]
  },
  {
   "cell_type": "code",
   "execution_count": 4,
   "metadata": {},
   "outputs": [
    {
     "name": "stdout",
     "output_type": "stream",
     "text": [
      "Varies with device    462\n",
      "1                      92\n",
      "1.1                    34\n",
      "1.4                    30\n",
      "1.2                    25\n",
      "                     ... \n",
      "3.25                    1\n",
      "hundred twelve          1\n",
      "v3.4.3                  1\n",
      "8.055.008               1\n",
      "1.9942                  1\n",
      "Name: Current Version, Length: 2428, dtype: int64\n"
     ]
    }
   ],
   "source": [
    "print(df['Current Version'].value_counts())\n",
    "df['Current Version'].replace(['v'],\"\", inplace = True,regex = True)\n",
    "df.loc[df['Current Version'] == 'hundred twelve']\n",
    "df = df.drop(labels = 1650,axis = 0)"
   ]
  },
  {
   "cell_type": "code",
   "execution_count": 5,
   "metadata": {},
   "outputs": [],
   "source": [
    "df['Requires Android'].value_counts()\n",
    "df.loc[df['Requires Android'] == '10-Nov']\n",
    "df = df.drop(labels = 172,axis = 0)"
   ]
  },
  {
   "cell_type": "code",
   "execution_count": 6,
   "metadata": {},
   "outputs": [],
   "source": [
    "# Requires Android,In-app Products\n",
    "\n",
    "df['Requires Android'].replace(['W'],\"\", inplace = True,regex = True)\n",
    "df['In-app Products'].replace(['per item'],\"\", inplace = True,regex = True)"
   ]
  },
  {
   "cell_type": "code",
   "execution_count": 7,
   "metadata": {
    "collapsed": true
   },
   "outputs": [
    {
     "name": "stdout",
     "output_type": "stream",
     "text": [
      "In-Game Purchases                                                            2639\n",
      "Digital Purchases                                                             661\n",
      "Users Interact                                                                318\n",
      "In-App Purchases                                                              260\n",
      "Users Interact, In-Game Purchases                                             220\n",
      "Users Interact, Digital Purchases                                             186\n",
      "Users Interact, In-App Purchases                                              102\n",
      "Users Interact, Shares Location                                                49\n",
      "Shares Info                                                                    45\n",
      "In-Game Purchases (Includes Random Items)                                      36\n",
      "Users Interact, Shares Location, In-App Purchases                              35\n",
      "Shares Info, Digital Purchases                                                 26\n",
      "Users Interact, Shares Location, Digital Purchases                             23\n",
      "Unrestricted Internet                                                          21\n",
      "Users Interact, Shares Info, Digital Purchases                                 20\n",
      "Users Interact, Shares Info                                                    19\n",
      "Shares Location                                                                15\n",
      "Users Interact, In-Game Purchases (Includes Random Items)                      13\n",
      "Users Interact, Shares Location, In-Game Purchases                              9\n",
      "Users Interact, Unrestricted Internet                                           6\n",
      "Users Interact, Shares Info, Shares Location                                    5\n",
      "Shares Location, Digital Purchases                                              5\n",
      "Shares Info, Shares Location                                                    4\n",
      "Shares Location, In-App Purchases                                               4\n",
      "Users Interact, Shares Info, Shares Location, Digital Purchases                 4\n",
      "Shares Location, In-Game Purchases                                              3\n",
      "Users Interact, Shares Location, Digital Purchases, Unrestricted Internet       2\n",
      "Unrestricted Internet, In-App Purchases                                         1\n",
      "Shares Info, Unrestricted Internet                                              1\n",
      "Users Interact, Unrestricted Internet, In-App Purchases                         1\n",
      "Digital Purchases, Unrestricted Internet                                        1\n",
      "Users Interact, Digital Purchases, Unrestricted Internet                        1\n",
      "Users Interact, Shares Info, Unrestricted Internet                              1\n",
      "Users Interact, Shares Info, Shares Location, Unrestricted Internet             1\n",
      "Name: Interactive Elements, dtype: int64\n"
     ]
    }
   ],
   "source": [
    "df['Interactive Elements'].value_counts()\n",
    "df['Interactive Elements'].fillna(df['Interactive Elements'].mode()[0],inplace = True)\n",
    "print(df['Interactive Elements'].value_counts())"
   ]
  },
  {
   "cell_type": "code",
   "execution_count": 8,
   "metadata": {
    "collapsed": true
   },
   "outputs": [
    {
     "name": "stdout",
     "output_type": "stream",
     "text": [
      "$0.99 - $99.99      533\n",
      "$0.99 - $49.99       91\n",
      "$4.99                69\n",
      "$2.99                66\n",
      "$1.99 - $99.99       64\n",
      "                   ... \n",
      "$3.49 - $34.99        1\n",
      "$1.49 - $5.49         1\n",
      "$3.99 - $21.99        1\n",
      "$12.99 - $69.99       1\n",
      "$3.49 - $59.99        1\n",
      "Name: In-app Products, Length: 619, dtype: int64\n"
     ]
    }
   ],
   "source": [
    "print(df['In-app Products'].value_counts())"
   ]
  },
  {
   "cell_type": "code",
   "execution_count": 9,
   "metadata": {
    "collapsed": true
   },
   "outputs": [
    {
     "name": "stdout",
     "output_type": "stream",
     "text": [
      "$0.99 - $99.99      2264\n",
      "$0.99 - $49.99        91\n",
      "$4.99                 69\n",
      "$2.99                 66\n",
      "$1.99 - $99.99        64\n",
      "                    ... \n",
      "$3.49 - $34.99         1\n",
      "$1.49 - $5.49          1\n",
      "$3.99 - $21.99         1\n",
      "$4.99 - $109.99        1\n",
      "$3.49 - $59.99         1\n",
      "Name: In-app Products, Length: 619, dtype: int64\n"
     ]
    }
   ],
   "source": [
    "df['In-app Products'].fillna(df['In-app Products'].mode()[0],inplace = True)\n",
    "print(df['In-app Products'].value_counts())"
   ]
  },
  {
   "cell_type": "code",
   "execution_count": 10,
   "metadata": {},
   "outputs": [],
   "source": [
    "df['Installs'].value_counts()\n",
    "df['Installs'].fillna(df['Installs'].mode()[0],inplace = True)"
   ]
  },
  {
   "cell_type": "code",
   "execution_count": 11,
   "metadata": {
    "collapsed": true
   },
   "outputs": [
    {
     "name": "stdout",
     "output_type": "stream",
     "text": [
      "1,000,000+         1021\n",
      "10,000,000+         807\n",
      "100,000+            716\n",
      "5,000,000+          421\n",
      "500,000+            383\n",
      "10,000+             309\n",
      "50,000+             227\n",
      "100,000,000+        223\n",
      "50,000,000+         197\n",
      "1,000+              147\n",
      "5,000+               98\n",
      "1,000,000,000+       47\n",
      "100+                 42\n",
      "500,000,000+         38\n",
      "500+                 37\n",
      "10,000,000,000+       5\n",
      "5,000,000,000+        5\n",
      "10+                   5\n",
      "1+                    5\n",
      "50+                   3\n",
      "5+                    1\n",
      "Name: Installs, dtype: int64\n"
     ]
    }
   ],
   "source": [
    "print(df['Installs'].value_counts())"
   ]
  },
  {
   "cell_type": "code",
   "execution_count": 12,
   "metadata": {},
   "outputs": [],
   "source": [
    "df['Current Version'].value_counts()\n",
    "df['Current Version'].replace(['v'],\"\", inplace = True,regex = True)\n",
    "df['Current Version'].fillna(df['Current Version'].mode()[0],inplace = True)"
   ]
  },
  {
   "cell_type": "code",
   "execution_count": 13,
   "metadata": {
    "collapsed": true
   },
   "outputs": [
    {
     "name": "stdout",
     "output_type": "stream",
     "text": [
      "Varies with deice    463\n",
      "1                     92\n",
      "1.1                   34\n",
      "1.4                   30\n",
      "2                     25\n",
      "                    ... \n",
      "4.7.4                  1\n",
      "4.52                   1\n",
      "3.25                   1\n",
      "8.055.008              1\n",
      "1.9942                 1\n",
      "Name: Current Version, Length: 2425, dtype: int64\n"
     ]
    }
   ],
   "source": [
    "print(df['Current Version'].value_counts())"
   ]
  },
  {
   "cell_type": "code",
   "execution_count": 14,
   "metadata": {},
   "outputs": [],
   "source": [
    "df.to_csv(\"~/Downloads/ps_updated.csv\")"
   ]
  },
  {
   "cell_type": "code",
   "execution_count": null,
   "metadata": {},
   "outputs": [],
   "source": [
    "#df['Interactive Elements'] = df['Interactive Elements'].str.split(\",\")\n",
    "#df = df.explode(['Interactive Elements'])\n",
    "\n",
    "#df['Content Rating'] = df['Content Rating'].str.split(\",\")\n",
    "#df = df.explode(['Content Rating'])"
   ]
  },
  {
   "cell_type": "code",
   "execution_count": 17,
   "metadata": {},
   "outputs": [
    {
     "data": {
      "text/plain": [
       "(4737, 15)"
      ]
     },
     "execution_count": 17,
     "metadata": {},
     "output_type": "execute_result"
    }
   ],
   "source": [
    "df.shape"
   ]
  },
  {
   "cell_type": "code",
   "execution_count": null,
   "metadata": {},
   "outputs": [],
   "source": []
  },
  {
   "cell_type": "code",
   "execution_count": null,
   "metadata": {},
   "outputs": [],
   "source": []
  },
  {
   "cell_type": "code",
   "execution_count": null,
   "metadata": {},
   "outputs": [],
   "source": []
  },
  {
   "cell_type": "code",
   "execution_count": null,
   "metadata": {},
   "outputs": [],
   "source": []
  },
  {
   "cell_type": "code",
   "execution_count": null,
   "metadata": {},
   "outputs": [],
   "source": []
  },
  {
   "cell_type": "code",
   "execution_count": null,
   "metadata": {},
   "outputs": [],
   "source": []
  },
  {
   "cell_type": "code",
   "execution_count": null,
   "metadata": {},
   "outputs": [],
   "source": []
  },
  {
   "cell_type": "code",
   "execution_count": null,
   "metadata": {},
   "outputs": [],
   "source": []
  }
 ],
 "metadata": {
  "kernelspec": {
   "display_name": "Python 3",
   "language": "python",
   "name": "python3"
  },
  "language_info": {
   "codemirror_mode": {
    "name": "ipython",
    "version": 3
   },
   "file_extension": ".py",
   "mimetype": "text/x-python",
   "name": "python",
   "nbconvert_exporter": "python",
   "pygments_lexer": "ipython3",
   "version": "3.7.9"
  }
 },
 "nbformat": 4,
 "nbformat_minor": 4
}
