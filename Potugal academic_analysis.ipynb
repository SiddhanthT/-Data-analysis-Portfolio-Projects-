{
 "cells": [
  {
   "cell_type": "code",
   "execution_count": 1,
   "metadata": {},
   "outputs": [
    {
     "data": {
      "text/html": [
       "<div>\n",
       "<style scoped>\n",
       "    .dataframe tbody tr th:only-of-type {\n",
       "        vertical-align: middle;\n",
       "    }\n",
       "\n",
       "    .dataframe tbody tr th {\n",
       "        vertical-align: top;\n",
       "    }\n",
       "\n",
       "    .dataframe thead th {\n",
       "        text-align: right;\n",
       "    }\n",
       "</style>\n",
       "<table border=\"1\" class=\"dataframe\">\n",
       "  <thead>\n",
       "    <tr style=\"text-align: right;\">\n",
       "      <th></th>\n",
       "      <th>Marital status</th>\n",
       "      <th>Application mode</th>\n",
       "      <th>Application order</th>\n",
       "      <th>Course</th>\n",
       "      <th>Daytime/evening attendance</th>\n",
       "      <th>Previous qualification</th>\n",
       "      <th>Previous qualification (grade)</th>\n",
       "      <th>Nacionality</th>\n",
       "      <th>Mother's qualification</th>\n",
       "      <th>Father's qualification</th>\n",
       "      <th>Mother's occupation</th>\n",
       "      <th>Father's occupation</th>\n",
       "      <th>Admission grade</th>\n",
       "      <th>Displaced</th>\n",
       "      <th>Educational special needs</th>\n",
       "      <th>Debtor</th>\n",
       "      <th>Tuition fees up to date</th>\n",
       "      <th>Gender</th>\n",
       "      <th>Scholarship holder</th>\n",
       "      <th>Age at enrollment</th>\n",
       "      <th>International</th>\n",
       "      <th>Curricular units 1st sem (credited)</th>\n",
       "      <th>Curricular units 1st sem (enrolled)</th>\n",
       "      <th>Curricular units 1st sem (evaluations)</th>\n",
       "      <th>Curricular units 1st sem (approved)</th>\n",
       "      <th>Curricular units 1st sem (grade)</th>\n",
       "      <th>Curricular units 1st sem (without evaluations)</th>\n",
       "      <th>Curricular units 2nd sem (credited)</th>\n",
       "      <th>Curricular units 2nd sem (enrolled)</th>\n",
       "      <th>Curricular units 2nd sem (evaluations)</th>\n",
       "      <th>Curricular units 2nd sem (approved)</th>\n",
       "      <th>Curricular units 2nd sem (grade)</th>\n",
       "      <th>Curricular units 2nd sem (without evaluations)</th>\n",
       "      <th>Unemployment rate</th>\n",
       "      <th>Inflation rate</th>\n",
       "      <th>GDP</th>\n",
       "      <th>Target</th>\n",
       "    </tr>\n",
       "  </thead>\n",
       "  <tbody>\n",
       "    <tr>\n",
       "      <th>0</th>\n",
       "      <td>1</td>\n",
       "      <td>17</td>\n",
       "      <td>5</td>\n",
       "      <td>171</td>\n",
       "      <td>1</td>\n",
       "      <td>1</td>\n",
       "      <td>122.0</td>\n",
       "      <td>1</td>\n",
       "      <td>19</td>\n",
       "      <td>12</td>\n",
       "      <td>5</td>\n",
       "      <td>9</td>\n",
       "      <td>127.3</td>\n",
       "      <td>1</td>\n",
       "      <td>0</td>\n",
       "      <td>0</td>\n",
       "      <td>1</td>\n",
       "      <td>1</td>\n",
       "      <td>0</td>\n",
       "      <td>20</td>\n",
       "      <td>0</td>\n",
       "      <td>0</td>\n",
       "      <td>0</td>\n",
       "      <td>0</td>\n",
       "      <td>0</td>\n",
       "      <td>0.000000</td>\n",
       "      <td>0</td>\n",
       "      <td>0</td>\n",
       "      <td>0</td>\n",
       "      <td>0</td>\n",
       "      <td>0</td>\n",
       "      <td>0.000000</td>\n",
       "      <td>0</td>\n",
       "      <td>10.8</td>\n",
       "      <td>1.4</td>\n",
       "      <td>1.74</td>\n",
       "      <td>Dropout</td>\n",
       "    </tr>\n",
       "    <tr>\n",
       "      <th>1</th>\n",
       "      <td>1</td>\n",
       "      <td>15</td>\n",
       "      <td>1</td>\n",
       "      <td>9254</td>\n",
       "      <td>1</td>\n",
       "      <td>1</td>\n",
       "      <td>160.0</td>\n",
       "      <td>1</td>\n",
       "      <td>1</td>\n",
       "      <td>3</td>\n",
       "      <td>3</td>\n",
       "      <td>3</td>\n",
       "      <td>142.5</td>\n",
       "      <td>1</td>\n",
       "      <td>0</td>\n",
       "      <td>0</td>\n",
       "      <td>0</td>\n",
       "      <td>1</td>\n",
       "      <td>0</td>\n",
       "      <td>19</td>\n",
       "      <td>0</td>\n",
       "      <td>0</td>\n",
       "      <td>6</td>\n",
       "      <td>6</td>\n",
       "      <td>6</td>\n",
       "      <td>14.000000</td>\n",
       "      <td>0</td>\n",
       "      <td>0</td>\n",
       "      <td>6</td>\n",
       "      <td>6</td>\n",
       "      <td>6</td>\n",
       "      <td>13.666667</td>\n",
       "      <td>0</td>\n",
       "      <td>13.9</td>\n",
       "      <td>-0.3</td>\n",
       "      <td>0.79</td>\n",
       "      <td>Graduate</td>\n",
       "    </tr>\n",
       "    <tr>\n",
       "      <th>2</th>\n",
       "      <td>1</td>\n",
       "      <td>1</td>\n",
       "      <td>5</td>\n",
       "      <td>9070</td>\n",
       "      <td>1</td>\n",
       "      <td>1</td>\n",
       "      <td>122.0</td>\n",
       "      <td>1</td>\n",
       "      <td>37</td>\n",
       "      <td>37</td>\n",
       "      <td>9</td>\n",
       "      <td>9</td>\n",
       "      <td>124.8</td>\n",
       "      <td>1</td>\n",
       "      <td>0</td>\n",
       "      <td>0</td>\n",
       "      <td>0</td>\n",
       "      <td>1</td>\n",
       "      <td>0</td>\n",
       "      <td>19</td>\n",
       "      <td>0</td>\n",
       "      <td>0</td>\n",
       "      <td>6</td>\n",
       "      <td>0</td>\n",
       "      <td>0</td>\n",
       "      <td>0.000000</td>\n",
       "      <td>0</td>\n",
       "      <td>0</td>\n",
       "      <td>6</td>\n",
       "      <td>0</td>\n",
       "      <td>0</td>\n",
       "      <td>0.000000</td>\n",
       "      <td>0</td>\n",
       "      <td>10.8</td>\n",
       "      <td>1.4</td>\n",
       "      <td>1.74</td>\n",
       "      <td>Dropout</td>\n",
       "    </tr>\n",
       "    <tr>\n",
       "      <th>3</th>\n",
       "      <td>1</td>\n",
       "      <td>17</td>\n",
       "      <td>2</td>\n",
       "      <td>9773</td>\n",
       "      <td>1</td>\n",
       "      <td>1</td>\n",
       "      <td>122.0</td>\n",
       "      <td>1</td>\n",
       "      <td>38</td>\n",
       "      <td>37</td>\n",
       "      <td>5</td>\n",
       "      <td>3</td>\n",
       "      <td>119.6</td>\n",
       "      <td>1</td>\n",
       "      <td>0</td>\n",
       "      <td>0</td>\n",
       "      <td>1</td>\n",
       "      <td>0</td>\n",
       "      <td>0</td>\n",
       "      <td>20</td>\n",
       "      <td>0</td>\n",
       "      <td>0</td>\n",
       "      <td>6</td>\n",
       "      <td>8</td>\n",
       "      <td>6</td>\n",
       "      <td>13.428571</td>\n",
       "      <td>0</td>\n",
       "      <td>0</td>\n",
       "      <td>6</td>\n",
       "      <td>10</td>\n",
       "      <td>5</td>\n",
       "      <td>12.400000</td>\n",
       "      <td>0</td>\n",
       "      <td>9.4</td>\n",
       "      <td>-0.8</td>\n",
       "      <td>-3.12</td>\n",
       "      <td>Graduate</td>\n",
       "    </tr>\n",
       "    <tr>\n",
       "      <th>4</th>\n",
       "      <td>2</td>\n",
       "      <td>39</td>\n",
       "      <td>1</td>\n",
       "      <td>8014</td>\n",
       "      <td>0</td>\n",
       "      <td>1</td>\n",
       "      <td>100.0</td>\n",
       "      <td>1</td>\n",
       "      <td>37</td>\n",
       "      <td>38</td>\n",
       "      <td>9</td>\n",
       "      <td>9</td>\n",
       "      <td>141.5</td>\n",
       "      <td>0</td>\n",
       "      <td>0</td>\n",
       "      <td>0</td>\n",
       "      <td>1</td>\n",
       "      <td>0</td>\n",
       "      <td>0</td>\n",
       "      <td>45</td>\n",
       "      <td>0</td>\n",
       "      <td>0</td>\n",
       "      <td>6</td>\n",
       "      <td>9</td>\n",
       "      <td>5</td>\n",
       "      <td>12.333333</td>\n",
       "      <td>0</td>\n",
       "      <td>0</td>\n",
       "      <td>6</td>\n",
       "      <td>6</td>\n",
       "      <td>6</td>\n",
       "      <td>13.000000</td>\n",
       "      <td>0</td>\n",
       "      <td>13.9</td>\n",
       "      <td>-0.3</td>\n",
       "      <td>0.79</td>\n",
       "      <td>Graduate</td>\n",
       "    </tr>\n",
       "  </tbody>\n",
       "</table>\n",
       "</div>"
      ],
      "text/plain": [
       "   Marital status  Application mode  Application order  Course  \\\n",
       "0               1                17                  5     171   \n",
       "1               1                15                  1    9254   \n",
       "2               1                 1                  5    9070   \n",
       "3               1                17                  2    9773   \n",
       "4               2                39                  1    8014   \n",
       "\n",
       "   Daytime/evening attendance  Previous qualification  \\\n",
       "0                           1                       1   \n",
       "1                           1                       1   \n",
       "2                           1                       1   \n",
       "3                           1                       1   \n",
       "4                           0                       1   \n",
       "\n",
       "   Previous qualification (grade)  Nacionality  Mother's qualification  \\\n",
       "0                           122.0            1                      19   \n",
       "1                           160.0            1                       1   \n",
       "2                           122.0            1                      37   \n",
       "3                           122.0            1                      38   \n",
       "4                           100.0            1                      37   \n",
       "\n",
       "   Father's qualification  Mother's occupation  Father's occupation  \\\n",
       "0                      12                    5                    9   \n",
       "1                       3                    3                    3   \n",
       "2                      37                    9                    9   \n",
       "3                      37                    5                    3   \n",
       "4                      38                    9                    9   \n",
       "\n",
       "   Admission grade  Displaced  Educational special needs  Debtor  \\\n",
       "0            127.3          1                          0       0   \n",
       "1            142.5          1                          0       0   \n",
       "2            124.8          1                          0       0   \n",
       "3            119.6          1                          0       0   \n",
       "4            141.5          0                          0       0   \n",
       "\n",
       "   Tuition fees up to date  Gender  Scholarship holder  Age at enrollment  \\\n",
       "0                        1       1                   0                 20   \n",
       "1                        0       1                   0                 19   \n",
       "2                        0       1                   0                 19   \n",
       "3                        1       0                   0                 20   \n",
       "4                        1       0                   0                 45   \n",
       "\n",
       "   International  Curricular units 1st sem (credited)  \\\n",
       "0              0                                    0   \n",
       "1              0                                    0   \n",
       "2              0                                    0   \n",
       "3              0                                    0   \n",
       "4              0                                    0   \n",
       "\n",
       "   Curricular units 1st sem (enrolled)  \\\n",
       "0                                    0   \n",
       "1                                    6   \n",
       "2                                    6   \n",
       "3                                    6   \n",
       "4                                    6   \n",
       "\n",
       "   Curricular units 1st sem (evaluations)  \\\n",
       "0                                       0   \n",
       "1                                       6   \n",
       "2                                       0   \n",
       "3                                       8   \n",
       "4                                       9   \n",
       "\n",
       "   Curricular units 1st sem (approved)  Curricular units 1st sem (grade)  \\\n",
       "0                                    0                          0.000000   \n",
       "1                                    6                         14.000000   \n",
       "2                                    0                          0.000000   \n",
       "3                                    6                         13.428571   \n",
       "4                                    5                         12.333333   \n",
       "\n",
       "   Curricular units 1st sem (without evaluations)  \\\n",
       "0                                               0   \n",
       "1                                               0   \n",
       "2                                               0   \n",
       "3                                               0   \n",
       "4                                               0   \n",
       "\n",
       "   Curricular units 2nd sem (credited)  Curricular units 2nd sem (enrolled)  \\\n",
       "0                                    0                                    0   \n",
       "1                                    0                                    6   \n",
       "2                                    0                                    6   \n",
       "3                                    0                                    6   \n",
       "4                                    0                                    6   \n",
       "\n",
       "   Curricular units 2nd sem (evaluations)  \\\n",
       "0                                       0   \n",
       "1                                       6   \n",
       "2                                       0   \n",
       "3                                      10   \n",
       "4                                       6   \n",
       "\n",
       "   Curricular units 2nd sem (approved)  Curricular units 2nd sem (grade)  \\\n",
       "0                                    0                          0.000000   \n",
       "1                                    6                         13.666667   \n",
       "2                                    0                          0.000000   \n",
       "3                                    5                         12.400000   \n",
       "4                                    6                         13.000000   \n",
       "\n",
       "   Curricular units 2nd sem (without evaluations)  Unemployment rate  \\\n",
       "0                                               0               10.8   \n",
       "1                                               0               13.9   \n",
       "2                                               0               10.8   \n",
       "3                                               0                9.4   \n",
       "4                                               0               13.9   \n",
       "\n",
       "   Inflation rate   GDP    Target  \n",
       "0             1.4  1.74   Dropout  \n",
       "1            -0.3  0.79  Graduate  \n",
       "2             1.4  1.74   Dropout  \n",
       "3            -0.8 -3.12  Graduate  \n",
       "4            -0.3  0.79  Graduate  "
      ]
     },
     "execution_count": 1,
     "metadata": {},
     "output_type": "execute_result"
    }
   ],
   "source": [
    "import pandas as pd \n",
    "import numpy as np \n",
    "import matplotlib.pyplot as plt \n",
    "pd.set_option('display.max_columns',500)\n",
    "df = pd.read_csv('~/Downloads/Dropout_Academic Success - Sheet1.csv')\n",
    "df.head()"
   ]
  },
  {
   "cell_type": "code",
   "execution_count": null,
   "metadata": {},
   "outputs": [],
   "source": []
  },
  {
   "cell_type": "code",
   "execution_count": 2,
   "metadata": {},
   "outputs": [
    {
     "data": {
      "text/plain": [
       "0"
      ]
     },
     "execution_count": 2,
     "metadata": {},
     "output_type": "execute_result"
    }
   ],
   "source": [
    "df.duplicated().sum()"
   ]
  },
  {
   "cell_type": "code",
   "execution_count": 3,
   "metadata": {
    "collapsed": true
   },
   "outputs": [
    {
     "data": {
      "text/plain": [
       "Marital status                                    0\n",
       "Application mode                                  0\n",
       "Application order                                 0\n",
       "Course                                            0\n",
       "Daytime/evening attendance                        0\n",
       "Previous qualification                            0\n",
       "Previous qualification (grade)                    0\n",
       "Nacionality                                       0\n",
       "Mother's qualification                            0\n",
       "Father's qualification                            0\n",
       "Mother's occupation                               0\n",
       "Father's occupation                               0\n",
       "Admission grade                                   0\n",
       "Displaced                                         0\n",
       "Educational special needs                         0\n",
       "Debtor                                            0\n",
       "Tuition fees up to date                           0\n",
       "Gender                                            0\n",
       "Scholarship holder                                0\n",
       "Age at enrollment                                 0\n",
       "International                                     0\n",
       "Curricular units 1st sem (credited)               0\n",
       "Curricular units 1st sem (enrolled)               0\n",
       "Curricular units 1st sem (evaluations)            0\n",
       "Curricular units 1st sem (approved)               0\n",
       "Curricular units 1st sem (grade)                  0\n",
       "Curricular units 1st sem (without evaluations)    0\n",
       "Curricular units 2nd sem (credited)               0\n",
       "Curricular units 2nd sem (enrolled)               0\n",
       "Curricular units 2nd sem (evaluations)            0\n",
       "Curricular units 2nd sem (approved)               0\n",
       "Curricular units 2nd sem (grade)                  0\n",
       "Curricular units 2nd sem (without evaluations)    0\n",
       "Unemployment rate                                 0\n",
       "Inflation rate                                    0\n",
       "GDP                                               0\n",
       "Target                                            0\n",
       "dtype: int64"
      ]
     },
     "execution_count": 3,
     "metadata": {},
     "output_type": "execute_result"
    }
   ],
   "source": [
    "df.isnull().sum()"
   ]
  },
  {
   "cell_type": "code",
   "execution_count": 6,
   "metadata": {},
   "outputs": [
    {
     "name": "stdout",
     "output_type": "stream",
     "text": [
      "<class 'pandas.core.frame.DataFrame'>\n",
      "RangeIndex: 4424 entries, 0 to 4423\n",
      "Data columns (total 37 columns):\n",
      " #   Column                                          Non-Null Count  Dtype  \n",
      "---  ------                                          --------------  -----  \n",
      " 0   Marital status                                  4424 non-null   int64  \n",
      " 1   Application mode                                4424 non-null   int64  \n",
      " 2   Application order                               4424 non-null   int64  \n",
      " 3   Course                                          4424 non-null   int64  \n",
      " 4   Daytime/evening attendance                      4424 non-null   int64  \n",
      " 5   Previous qualification                          4424 non-null   int64  \n",
      " 6   Previous qualification (grade)                  4424 non-null   float64\n",
      " 7   Nationality                                     4424 non-null   int64  \n",
      " 8   Mother's qualification                          4424 non-null   int64  \n",
      " 9   Father's qualification                          4424 non-null   int64  \n",
      " 10  Mother's occupation                             4424 non-null   int64  \n",
      " 11  Father's occupation                             4424 non-null   int64  \n",
      " 12  Admission grade                                 4424 non-null   float64\n",
      " 13  Displaced                                       4424 non-null   int64  \n",
      " 14  Educational special needs                       4424 non-null   int64  \n",
      " 15  Debtor                                          4424 non-null   int64  \n",
      " 16  Tuition fees up to date                         4424 non-null   int64  \n",
      " 17  Gender                                          4424 non-null   int64  \n",
      " 18  Scholarship holder                              4424 non-null   int64  \n",
      " 19  Age at enrollment                               4424 non-null   int64  \n",
      " 20  International                                   4424 non-null   int64  \n",
      " 21  Curricular units 1st sem (credited)             4424 non-null   int64  \n",
      " 22  Curricular units 1st sem (enrolled)             4424 non-null   int64  \n",
      " 23  Curricular units 1st sem (evaluations)          4424 non-null   int64  \n",
      " 24  Curricular units 1st sem (approved)             4424 non-null   int64  \n",
      " 25  Curricular units 1st sem (grade)                4424 non-null   float64\n",
      " 26  Curricular units 1st sem (without evaluations)  4424 non-null   int64  \n",
      " 27  Curricular units 2nd sem (credited)             4424 non-null   int64  \n",
      " 28  Curricular units 2nd sem (enrolled)             4424 non-null   int64  \n",
      " 29  Curricular units 2nd sem (evaluations)          4424 non-null   int64  \n",
      " 30  Curricular units 2nd sem (approved)             4424 non-null   int64  \n",
      " 31  Curricular units 2nd sem (grade)                4424 non-null   float64\n",
      " 32  Curricular units 2nd sem (without evaluations)  4424 non-null   int64  \n",
      " 33  Unemployment rate                               4424 non-null   float64\n",
      " 34  Inflation rate                                  4424 non-null   float64\n",
      " 35  GDP                                             4424 non-null   float64\n",
      " 36  Target                                          4424 non-null   object \n",
      "dtypes: float64(7), int64(29), object(1)\n",
      "memory usage: 1.2+ MB\n"
     ]
    }
   ],
   "source": [
    "df.info()"
   ]
  },
  {
   "cell_type": "code",
   "execution_count": null,
   "metadata": {},
   "outputs": [],
   "source": []
  },
  {
   "cell_type": "code",
   "execution_count": 5,
   "metadata": {},
   "outputs": [],
   "source": [
    "df = df.rename(columns = {'Nacionality':'Nationality'})"
   ]
  },
  {
   "cell_type": "code",
   "execution_count": 8,
   "metadata": {},
   "outputs": [
    {
     "data": {
      "text/plain": [
       "1    3919\n",
       "2     379\n",
       "4      91\n",
       "5      25\n",
       "6       6\n",
       "3       4\n",
       "Name: Marital status, dtype: int64"
      ]
     },
     "execution_count": 8,
     "metadata": {},
     "output_type": "execute_result"
    }
   ],
   "source": [
    "df['Marital status'].value_counts()"
   ]
  },
  {
   "cell_type": "code",
   "execution_count": 9,
   "metadata": {},
   "outputs": [],
   "source": [
    "df['Marital status'] = df['Marital status'].replace({1:'Single',2:'Married', 3:'Widower',\n",
    "                                                     4:'Divorced', 5:'Facto Union', 6:'Legally Separated'})"
   ]
  },
  {
   "cell_type": "code",
   "execution_count": 10,
   "metadata": {},
   "outputs": [
    {
     "name": "stdout",
     "output_type": "stream",
     "text": [
      "Single               3919\n",
      "Married               379\n",
      "Divorced               91\n",
      "Facto Union            25\n",
      "Legally Separated       6\n",
      "Widower                 4\n",
      "Name: Marital status, dtype: int64\n"
     ]
    }
   ],
   "source": [
    "print(df['Marital status'].value_counts())"
   ]
  },
  {
   "cell_type": "code",
   "execution_count": 11,
   "metadata": {},
   "outputs": [
    {
     "data": {
      "text/plain": [
       "1     1708\n",
       "17     872\n",
       "39     785\n",
       "43     312\n",
       "44     213\n",
       "7      139\n",
       "18     124\n",
       "42      77\n",
       "51      59\n",
       "16      38\n",
       "53      35\n",
       "15      30\n",
       "5       16\n",
       "10      10\n",
       "2        3\n",
       "57       1\n",
       "26       1\n",
       "27       1\n",
       "Name: Application mode, dtype: int64"
      ]
     },
     "execution_count": 11,
     "metadata": {},
     "output_type": "execute_result"
    }
   ],
   "source": [
    "df['Application mode'].value_counts()"
   ]
  },
  {
   "cell_type": "code",
   "execution_count": 12,
   "metadata": {},
   "outputs": [],
   "source": [
    "df['Application mode'] = df['Application mode'].replace({1:'1st phase',2:'Ordinance No. 612/93',\n",
    "                                                         5:'1st phase - special contingent (Azores Island)',\n",
    "                                                        7 : 'Holders of other higher courses',\n",
    "                                                        10 : 'Ordinance No. 854-B/99',\n",
    "                                                        15 : 'International student (bachelor)',\n",
    "                                                        16 : '1st phase - special contingent (Madeira Island)',\n",
    "                                                        17 : '2nd phase - general contingent',\n",
    "                                                        18 : '3rd phase - general contingent',\n",
    "                                                        26 :'Ordinance No. 533-A/99, item b2) (Different Plan)',\n",
    "                                                        27 :'Ordinance No. 533-A/99, item b3 (Other Institution)',\n",
    "                                                        39 : 'Over 23 years old',\n",
    "                                                        42 : 'Transfer',\n",
    "                                                        43 : 'Change of course',\n",
    "                                                        44 : 'Technological specialization diploma holders',\n",
    "                                                        51 : 'Change of institution/course', \n",
    "                                                        53 :'Short cycle diploma holders',\n",
    "                                                        57 : 'Change of institution/course (International)'})"
   ]
  },
  {
   "cell_type": "code",
   "execution_count": 13,
   "metadata": {},
   "outputs": [
    {
     "name": "stdout",
     "output_type": "stream",
     "text": [
      "1st phase                                              1708\n",
      "2nd phase - general contingent                          872\n",
      "Over 23 years old                                       785\n",
      "Change of course                                        312\n",
      "Technological specialization diploma holders            213\n",
      "Holders of other higher courses                         139\n",
      "3rd phase - general contingent                          124\n",
      "Transfer                                                 77\n",
      "Change of institution/course                             59\n",
      "1st phase - special contingent (Madeira Island)          38\n",
      "Short cycle diploma holders                              35\n",
      "International student (bachelor)                         30\n",
      "1st phase - special contingent (Azores Island)           16\n",
      "Ordinance No. 854-B/99                                   10\n",
      "Ordinance No. 612/93                                      3\n",
      "Change of institution/course (International)              1\n",
      "Ordinance No. 533-A/99, item b2) (Different Plan)         1\n",
      "Ordinance No. 533-A/99, item b3 (Other Institution)       1\n",
      "Name: Application mode, dtype: int64\n"
     ]
    }
   ],
   "source": [
    "print(df['Application mode'].value_counts())"
   ]
  },
  {
   "cell_type": "code",
   "execution_count": 15,
   "metadata": {},
   "outputs": [
    {
     "data": {
      "text/plain": [
       "1    3026\n",
       "2     547\n",
       "3     309\n",
       "4     249\n",
       "5     154\n",
       "6     137\n",
       "9       1\n",
       "0       1\n",
       "Name: Application order, dtype: int64"
      ]
     },
     "execution_count": 15,
     "metadata": {},
     "output_type": "execute_result"
    }
   ],
   "source": [
    "df['Application order'].value_counts()"
   ]
  },
  {
   "cell_type": "code",
   "execution_count": 16,
   "metadata": {},
   "outputs": [],
   "source": [
    "df['Application order'] = df['Application order'].replace({ 0: 'First Choice', 1:'Second Choice', \n",
    "                                                           2:'Third Choice', 3: 'Fourth Choice',\n",
    "                                                           4: 'Fifth Choice', 5: 'Sixth Choice',\n",
    "                                                           6: 'Seventh Choice', 7: 'Eigth Choice',\n",
    "                                                           8: 'Ninth Choice', 9: 'Last Choice'})"
   ]
  },
  {
   "cell_type": "code",
   "execution_count": 17,
   "metadata": {},
   "outputs": [
    {
     "name": "stdout",
     "output_type": "stream",
     "text": [
      "Second Choice     3026\n",
      "Third Choice       547\n",
      "Fourth Choice      309\n",
      "Fifth Choice       249\n",
      "Sixth Choice       154\n",
      "Seventh Choice     137\n",
      "Last Choice          1\n",
      "First Choice         1\n",
      "Name: Application order, dtype: int64\n"
     ]
    }
   ],
   "source": [
    "print(df['Application order'].value_counts())"
   ]
  },
  {
   "cell_type": "code",
   "execution_count": 18,
   "metadata": {},
   "outputs": [
    {
     "data": {
      "text/plain": [
       "9500    766\n",
       "9147    380\n",
       "9238    355\n",
       "9085    337\n",
       "9773    331\n",
       "9670    268\n",
       "9991    268\n",
       "9254    252\n",
       "9070    226\n",
       "171     215\n",
       "8014    215\n",
       "9003    210\n",
       "9853    192\n",
       "9119    170\n",
       "9130    141\n",
       "9556     86\n",
       "33       12\n",
       "Name: Course, dtype: int64"
      ]
     },
     "execution_count": 18,
     "metadata": {},
     "output_type": "execute_result"
    }
   ],
   "source": [
    "df['Course'].value_counts()"
   ]
  },
  {
   "cell_type": "code",
   "execution_count": 19,
   "metadata": {},
   "outputs": [],
   "source": [
    "df['Course'] = df['Course'].replace({ 33:'Biofuel Production Technologies',\n",
    "                                     171 : 'Animation and Multimedia Design',\n",
    "                                    8014 : 'Social Service (evening attendance)',\n",
    "                                     9003 : 'Agronomy',\n",
    "                                    9070 : 'Communication Design',\n",
    "                                    9085 : 'Veterinary Nursing',\n",
    "                                    9119 : 'Informatics Engineering',\n",
    "                                    9130 : 'Equinculture',\n",
    "                                    9147 : 'Management',\n",
    "                                    9238 : 'Social Service',\n",
    "                                    9254 : 'Tourism',\n",
    "                                    9500 : 'Nursing',\n",
    "                                    9556 : 'Oral Hygiene',\n",
    "                                    9670 : 'Advertising and Marketing Management',\n",
    "                                    9773 : 'Journalism and Communication',\n",
    "                                    9853 : 'Basic Education',\n",
    "                                    9991 : 'Management (evening attendance)'})"
   ]
  },
  {
   "cell_type": "code",
   "execution_count": 20,
   "metadata": {},
   "outputs": [
    {
     "name": "stdout",
     "output_type": "stream",
     "text": [
      "Nursing                                 766\n",
      "Management                              380\n",
      "Social Service                          355\n",
      "Veterinary Nursing                      337\n",
      "Journalism and Communication            331\n",
      "Advertising and Marketing Management    268\n",
      "Management (evening attendance)         268\n",
      "Tourism                                 252\n",
      "Communication Design                    226\n",
      "Animation and Multimedia Design         215\n",
      "Social Service (evening attendance)     215\n",
      "Agronomy                                210\n",
      "Basic Education                         192\n",
      "Informatics Engineering                 170\n",
      "Equinculture                            141\n",
      "Oral Hygiene                             86\n",
      "Biofuel Production Technologies          12\n",
      "Name: Course, dtype: int64\n"
     ]
    }
   ],
   "source": [
    "print(df['Course'].value_counts())"
   ]
  },
  {
   "cell_type": "code",
   "execution_count": 21,
   "metadata": {},
   "outputs": [],
   "source": [
    "df = df.rename(columns= {'Daytime/evening attendance': 'Attendance'})"
   ]
  },
  {
   "cell_type": "code",
   "execution_count": 23,
   "metadata": {},
   "outputs": [
    {
     "data": {
      "text/plain": [
       "1    3941\n",
       "0     483\n",
       "Name: Attendance, dtype: int64"
      ]
     },
     "execution_count": 23,
     "metadata": {},
     "output_type": "execute_result"
    }
   ],
   "source": [
    "df['Attendance'].value_counts()"
   ]
  },
  {
   "cell_type": "code",
   "execution_count": 24,
   "metadata": {},
   "outputs": [],
   "source": [
    "df['Attendance'] = df['Attendance'].replace({1:'Daytime',0:'Evening'})"
   ]
  },
  {
   "cell_type": "code",
   "execution_count": 25,
   "metadata": {},
   "outputs": [
    {
     "name": "stdout",
     "output_type": "stream",
     "text": [
      "Daytime    3941\n",
      "Evening     483\n",
      "Name: Attendance, dtype: int64\n"
     ]
    }
   ],
   "source": [
    "print(df['Attendance'].value_counts())"
   ]
  },
  {
   "cell_type": "code",
   "execution_count": 26,
   "metadata": {},
   "outputs": [
    {
     "data": {
      "text/plain": [
       "1     3717\n",
       "39     219\n",
       "19     162\n",
       "3      126\n",
       "12      45\n",
       "40      40\n",
       "42      36\n",
       "2       23\n",
       "6       16\n",
       "9       11\n",
       "4        8\n",
       "38       7\n",
       "43       6\n",
       "10       4\n",
       "15       2\n",
       "5        1\n",
       "14       1\n",
       "Name: Previous qualification, dtype: int64"
      ]
     },
     "execution_count": 26,
     "metadata": {},
     "output_type": "execute_result"
    }
   ],
   "source": [
    "df['Previous qualification'].value_counts()"
   ]
  },
  {
   "cell_type": "code",
   "execution_count": 27,
   "metadata": {},
   "outputs": [],
   "source": [
    "df['Previous qualification'] = df['Previous qualification'].replace({ 1 : 'Secondary education',\n",
    "                                                                    2 : \"Higher education - bachelor's degree\",\n",
    "                                                                    3 : 'Higher education - degree',\n",
    "                                                                    4 : \"Higher education - master's\",\n",
    "                                                                    5 : 'Higher education - doctorate',\n",
    "                                                                    6 : 'Frequency of higher education',\n",
    "                                                                    9 : '12th year of schooling - not completed',\n",
    "                                                                    10 : '11th year of schooling - not completed',\n",
    "                                                                    12 : 'Other - 11th year of schooling',\n",
    "                                                                    14 : '10th year of schooling',\n",
    "                                                                    15 : '10th year of schooling - not completed',\n",
    "                                                                    19 : 'Basic education 3rd cycle (9th/10th/11th year) or equiv',\n",
    "                                                                    38 : 'Basic education 2nd cycle (6th/7th/8th year) or equiv',\n",
    "                                                                    39 : 'Technological specialization course',\n",
    "                                                                    40 : 'Higher education - degree (1st cycle)',\n",
    "                                                                    42 : 'Professional higher technical course',\n",
    "                                                                    43 : 'Higher education - master (2nd cycle)'})"
   ]
  },
  {
   "cell_type": "code",
   "execution_count": 28,
   "metadata": {},
   "outputs": [
    {
     "name": "stdout",
     "output_type": "stream",
     "text": [
      "Secondary education                                        3717\n",
      "Technological specialization course                         219\n",
      "Basic education 3rd cycle (9th/10th/11th year) or equiv     162\n",
      "Higher education - degree                                   126\n",
      "Other - 11th year of schooling                               45\n",
      "Higher education - degree (1st cycle)                        40\n",
      "Professional higher technical course                         36\n",
      "Higher education - bachelor's degree                         23\n",
      "Frequency of higher education                                16\n",
      "12th year of schooling - not completed                       11\n",
      "Higher education - master's                                   8\n",
      "Basic education 2nd cycle (6th/7th/8th year) or equiv         7\n",
      "Higher education - master (2nd cycle)                         6\n",
      "11th year of schooling - not completed                        4\n",
      "10th year of schooling - not completed                        2\n",
      "Higher education - doctorate                                  1\n",
      "10th year of schooling                                        1\n",
      "Name: Previous qualification, dtype: int64\n"
     ]
    }
   ],
   "source": [
    "print(df['Previous qualification'].value_counts())"
   ]
  },
  {
   "cell_type": "code",
   "execution_count": 29,
   "metadata": {},
   "outputs": [
    {
     "data": {
      "text/plain": [
       "1      4314\n",
       "41       38\n",
       "26       14\n",
       "22       13\n",
       "6        13\n",
       "24        5\n",
       "100       3\n",
       "11        3\n",
       "103       3\n",
       "21        2\n",
       "101       2\n",
       "62        2\n",
       "25        2\n",
       "2         2\n",
       "105       2\n",
       "32        1\n",
       "13        1\n",
       "109       1\n",
       "108       1\n",
       "14        1\n",
       "17        1\n",
       "Name: Nationality, dtype: int64"
      ]
     },
     "execution_count": 29,
     "metadata": {},
     "output_type": "execute_result"
    }
   ],
   "source": [
    "df['Nationality'].value_counts()"
   ]
  },
  {
   "cell_type": "code",
   "execution_count": 30,
   "metadata": {},
   "outputs": [],
   "source": [
    "df['Nationality'] = df['Nationality'].replace({ 1 : 'Portuguese', \n",
    "                                               2 : 'German',\n",
    "                                                6 : 'Spanish',\n",
    "                                                11 : 'Italian',\n",
    "                                                13 : 'Dutch',\n",
    "                                                14 : 'English',\n",
    "                                                17 : 'Lithuanian',\n",
    "                                                21 : 'Angolan',\n",
    "                                                22 : 'Cape Verdean',\n",
    "                                                24 : 'Guinean',\n",
    "                                                25 : 'Mozambican',\n",
    "                                                26 : 'Santomean',\n",
    "                                                32 : 'Turkish',\n",
    "                                                41 : 'Brazilian',\n",
    "                                                62 : 'Romanian',\n",
    "                                                100:'Moldova',\n",
    "                                               101 : 'Mexican',\n",
    "                                                103 : 'Ukrainian',\n",
    "                                                105 : 'Russian',\n",
    "                                                108 : 'Cuban',\n",
    "                                                109 : 'Colombian'})"
   ]
  },
  {
   "cell_type": "code",
   "execution_count": 31,
   "metadata": {},
   "outputs": [
    {
     "name": "stdout",
     "output_type": "stream",
     "text": [
      "Portuguese      4314\n",
      "Brazilian         38\n",
      "Santomean         14\n",
      "Cape Verdean      13\n",
      "Spanish           13\n",
      "Guinean            5\n",
      "Moldova            3\n",
      "Italian            3\n",
      "Ukrainian          3\n",
      "Angolan            2\n",
      "Mexican            2\n",
      "Romanian           2\n",
      "Mozambican         2\n",
      "German             2\n",
      "Russian            2\n",
      "Turkish            1\n",
      "Dutch              1\n",
      "Colombian          1\n",
      "Cuban              1\n",
      "English            1\n",
      "Lithuanian         1\n",
      "Name: Nationality, dtype: int64\n"
     ]
    }
   ],
   "source": [
    "print(df['Nationality'].value_counts())"
   ]
  },
  {
   "cell_type": "code",
   "execution_count": 32,
   "metadata": {},
   "outputs": [
    {
     "data": {
      "text/plain": [
       "1     1069\n",
       "37    1009\n",
       "19     953\n",
       "38     562\n",
       "3      438\n",
       "34     130\n",
       "2       83\n",
       "4       49\n",
       "12      42\n",
       "5       21\n",
       "40       9\n",
       "9        8\n",
       "39       8\n",
       "41       6\n",
       "6        4\n",
       "42       4\n",
       "43       4\n",
       "29       3\n",
       "10       3\n",
       "11       3\n",
       "36       3\n",
       "35       3\n",
       "30       3\n",
       "14       2\n",
       "18       1\n",
       "22       1\n",
       "27       1\n",
       "26       1\n",
       "44       1\n",
       "Name: Mother's qualification, dtype: int64"
      ]
     },
     "execution_count": 32,
     "metadata": {},
     "output_type": "execute_result"
    }
   ],
   "source": [
    "df[\"Mother's qualification\"].value_counts()"
   ]
  },
  {
   "cell_type": "code",
   "execution_count": 33,
   "metadata": {},
   "outputs": [],
   "source": [
    "df[\"Mother's qualification\"] = df[\"Mother's qualification\"].replace({1 : 'Secondary Education - 12th Year of Schooling or Eq.',\n",
    "                                                                     2 : \"Higher Education - Bachelor's Degree\",\n",
    "                                                                    3 : 'Higher Education - Degree',\n",
    "                                                                    4 : \"Higher Education - Master's\",\n",
    "                                                                    5 : 'Higher Education - Doctorate',\n",
    "                                                                    6 : 'Frequency of Higher Education',\n",
    "                                                                    9 : '12th Year of Schooling - Not Completed',\n",
    "                                                                    10 : '11th Year of Schooling - Not Completed',\n",
    "                                                                    11 : '7th Year (Old)',\n",
    "                                                                    12 : 'Other - 11th Year of Schooling',\n",
    "                                                                    14 : '10th Year of Schooling',\n",
    "                                                                    18 : 'General commerce course',\n",
    "                                                                    19 : 'Basic Education 3rd Cycle (9th/10th/11th Year) or Equiv.', \n",
    "                                                                    22 : 'Technical-professional course',\n",
    "                                                                    26 : '7th year of schooling',\n",
    "                                                                    27 : '2nd cycle of the general high school course',\n",
    "                                                                    29 : '9th Year of Schooling - Not Completed',\n",
    "                                                                    30 : '8th year of schooling',\n",
    "                                                                    34 : 'Unknown',\n",
    "                                                                    35 : \"Can't read or write\",\n",
    "                                                                    36 : 'Can read without having a 4th year of schooling',\n",
    "                                                                    37 : 'Basic education 1st cycle (4th/5th year) or equiv.',\n",
    "                                                                    38 : 'Basic Education 2nd Cycle (6th/7th/8th Year) or Equiv.', \n",
    "                                                                    39 : 'Technological specialization course',\n",
    "                                                                    40 : 'Higher education - degree (1st cycle)',\n",
    "                                                                    41 : 'Specialized higher studies course',\n",
    "                                                                    42 : 'Professional higher technical course',\n",
    "                                                                    43 : 'Higher Education - Master (2nd cycle)',\n",
    "                                                                    44 : 'Higher Education - Doctorate (3rd cycle)'})"
   ]
  },
  {
   "cell_type": "code",
   "execution_count": 34,
   "metadata": {},
   "outputs": [
    {
     "name": "stdout",
     "output_type": "stream",
     "text": [
      "Secondary Education - 12th Year of Schooling or Eq.         1069\n",
      "Basic education 1st cycle (4th/5th year) or equiv.          1009\n",
      "Basic Education 3rd Cycle (9th/10th/11th Year) or Equiv.     953\n",
      "Basic Education 2nd Cycle (6th/7th/8th Year) or Equiv.       562\n",
      "Higher Education - Degree                                    438\n",
      "Unknown                                                      130\n",
      "Higher Education - Bachelor's Degree                          83\n",
      "Higher Education - Master's                                   49\n",
      "Other - 11th Year of Schooling                                42\n",
      "Higher Education - Doctorate                                  21\n",
      "Higher education - degree (1st cycle)                          9\n",
      "12th Year of Schooling - Not Completed                         8\n",
      "Technological specialization course                            8\n",
      "Specialized higher studies course                              6\n",
      "Frequency of Higher Education                                  4\n",
      "Professional higher technical course                           4\n",
      "Higher Education - Master (2nd cycle)                          4\n",
      "9th Year of Schooling - Not Completed                          3\n",
      "11th Year of Schooling - Not Completed                         3\n",
      "7th Year (Old)                                                 3\n",
      "Can read without having a 4th year of schooling                3\n",
      "Can't read or write                                            3\n",
      "8th year of schooling                                          3\n",
      "10th Year of Schooling                                         2\n",
      "General commerce course                                        1\n",
      "Technical-professional course                                  1\n",
      "2nd cycle of the general high school course                    1\n",
      "7th year of schooling                                          1\n",
      "Higher Education - Doctorate (3rd cycle)                       1\n",
      "Name: Mother's qualification, dtype: int64\n"
     ]
    }
   ],
   "source": [
    "print(df[\"Mother's qualification\"].value_counts())"
   ]
  },
  {
   "cell_type": "code",
   "execution_count": 35,
   "metadata": {},
   "outputs": [
    {
     "data": {
      "text/plain": [
       "37    1209\n",
       "19     968\n",
       "1      904\n",
       "38     702\n",
       "3      282\n",
       "34     112\n",
       "2       68\n",
       "4       39\n",
       "12      38\n",
       "39      20\n",
       "5       18\n",
       "11      10\n",
       "36       8\n",
       "9        5\n",
       "40       5\n",
       "22       4\n",
       "30       4\n",
       "14       4\n",
       "29       3\n",
       "35       2\n",
       "41       2\n",
       "43       2\n",
       "10       2\n",
       "6        2\n",
       "26       2\n",
       "25       1\n",
       "27       1\n",
       "33       1\n",
       "44       1\n",
       "20       1\n",
       "42       1\n",
       "18       1\n",
       "13       1\n",
       "31       1\n",
       "Name: Father's qualification, dtype: int64"
      ]
     },
     "execution_count": 35,
     "metadata": {},
     "output_type": "execute_result"
    }
   ],
   "source": [
    "df[\"Father's qualification\"].value_counts()"
   ]
  },
  {
   "cell_type": "code",
   "execution_count": 36,
   "metadata": {},
   "outputs": [],
   "source": [
    "df[\"Father's qualification\"] = df[\"Father's qualification\"].replace({1 : \"Secondary Education - 12th Year of Schooling or Eq.\", \n",
    "                                                                     2 : \"Higher Education - Bachelor's Degree\",\n",
    "                                                                     3 : \"Higher Education - Degree\",\n",
    "                                                                        4 : \"Higher Education - Master's\",\n",
    "                                                                        5 : \"Higher Education - Doctorate\",\n",
    "                                                                        6 : \"Frequency of Higher Education\",\n",
    "                                                                        9 : \"12th Year of Schooling - Not Completed\",\n",
    "                                                                        10 : \"11th Year of Schooling - Not Completed\",\n",
    "                                                                        11 : \"7th Year (Old)\",\n",
    "                                                                        12 : \"Other - 11th Year of Schooling\",\n",
    "                                                                        13 : \"2nd year complementary high school course\",\n",
    "                                                                        14 : \"10th Year of Schooling\",\n",
    "                                                                        18 : \"General commerce course\",\n",
    "                                                                        19 : \"Basic Education 3rd Cycle (9th/10th/11th Year) or Equiv.\",\n",
    "                                                                     20 : \"Complementary High School Course\",\n",
    "                                                                        22 : 'Technical-professional course',\n",
    "                                                                        25 : \"Complementary High School Course - not concluded\",\n",
    "                                                                        26 : \"7th year of schooling\",\n",
    "                                                                        27 : \"2nd cycle of the general high school course\",\n",
    "                                                                        29 : \"9th Year of Schooling - Not Completed\",\n",
    "                                                                        30 : \"8th year of schooling\",\n",
    "                                                                        31 : \"General Course of Administration and Commerce\",\n",
    "                                                                        33 : \"Supplementary Accounting and Administration\",\n",
    "                                                                        34 : \"Unknown\",\n",
    "                                                                        35 : \"Can't read or write\",\n",
    "                                                                        36 : \"Can read without having a 4th year of schooling\",\n",
    "                                                                        37 : \"Basic education 1st cycle (4th/5th year) or equiv.\",\n",
    "                                                                        38 : \"Basic Education 2nd Cycle (6th/7th/8th Year) or Equiv.\", \n",
    "                                                                     39 : \"Technological specialization course\",\n",
    "                                                                        40 : \"Higher education - degree (1st cycle)\",\n",
    "                                                                        41 : \"Specialized higher studies course\",\n",
    "                                                                        42 : \"Professional higher technical course\",\n",
    "                                                                        43 : \"Higher Education - Master (2nd cycle)\",\n",
    "                                                                        44 : 'Higher Education - Doctorate (3rd cycle)'})"
   ]
  },
  {
   "cell_type": "code",
   "execution_count": 37,
   "metadata": {},
   "outputs": [
    {
     "name": "stdout",
     "output_type": "stream",
     "text": [
      "Basic education 1st cycle (4th/5th year) or equiv.          1209\n",
      "Basic Education 3rd Cycle (9th/10th/11th Year) or Equiv.     968\n",
      "Secondary Education - 12th Year of Schooling or Eq.          904\n",
      "Basic Education 2nd Cycle (6th/7th/8th Year) or Equiv.       702\n",
      "Higher Education - Degree                                    282\n",
      "Unknown                                                      112\n",
      "Higher Education - Bachelor's Degree                          68\n",
      "Higher Education - Master's                                   39\n",
      "Other - 11th Year of Schooling                                38\n",
      "Technological specialization course                           20\n",
      "Higher Education - Doctorate                                  18\n",
      "7th Year (Old)                                                10\n",
      "Can read without having a 4th year of schooling                8\n",
      "12th Year of Schooling - Not Completed                         5\n",
      "Higher education - degree (1st cycle)                          5\n",
      "Technical-professional course                                  4\n",
      "8th year of schooling                                          4\n",
      "10th Year of Schooling                                         4\n",
      "9th Year of Schooling - Not Completed                          3\n",
      "Can't read or write                                            2\n",
      "Specialized higher studies course                              2\n",
      "Higher Education - Master (2nd cycle)                          2\n",
      "11th Year of Schooling - Not Completed                         2\n",
      "Frequency of Higher Education                                  2\n",
      "7th year of schooling                                          2\n",
      "Complementary High School Course - not concluded               1\n",
      "2nd cycle of the general high school course                    1\n",
      "Supplementary Accounting and Administration                    1\n",
      "Higher Education - Doctorate (3rd cycle)                       1\n",
      "Complementary High School Course                               1\n",
      "Professional higher technical course                           1\n",
      "General commerce course                                        1\n",
      "2nd year complementary high school course                      1\n",
      "General Course of Administration and Commerce                  1\n",
      "Name: Father's qualification, dtype: int64\n"
     ]
    }
   ],
   "source": [
    "print(df[\"Father's qualification\"].value_counts())"
   ]
  },
  {
   "cell_type": "code",
   "execution_count": 38,
   "metadata": {},
   "outputs": [
    {
     "data": {
      "text/plain": [
       "9      1577\n",
       "4       817\n",
       "5       530\n",
       "3       351\n",
       "2       318\n",
       "7       272\n",
       "0       144\n",
       "1       102\n",
       "6        91\n",
       "90       70\n",
       "8        36\n",
       "191      26\n",
       "99       17\n",
       "194      11\n",
       "141       8\n",
       "123       7\n",
       "144       6\n",
       "175       5\n",
       "192       5\n",
       "193       4\n",
       "134       4\n",
       "10        4\n",
       "143       3\n",
       "151       3\n",
       "132       3\n",
       "152       2\n",
       "122       2\n",
       "153       2\n",
       "173       1\n",
       "125       1\n",
       "131       1\n",
       "171       1\n",
       "Name: Mother's occupation, dtype: int64"
      ]
     },
     "execution_count": 38,
     "metadata": {},
     "output_type": "execute_result"
    }
   ],
   "source": [
    "df[\"Mother's occupation\"].value_counts()"
   ]
  },
  {
   "cell_type": "code",
   "execution_count": 40,
   "metadata": {},
   "outputs": [],
   "source": [
    "df[\"Mother's occupation\"] = df[\"Mother's occupation\"].replace({0 : 'Student',\n",
    "                                                                1 : 'Representatives of the Legislative Power and Executive Bodies, Directors, Directors and Executive Managers',\n",
    "                                                                2 : 'Specialists in Intellectual and Scientific Activities',\n",
    "                                                                3 : 'Intermediate Level Technicians and Professions',\n",
    "                                                                4 : 'Administrative staff',\n",
    "                                                                5 : 'Personal Services, Security and Safety Workers and Sellers',\n",
    "                                                                6 : 'Farmers and Skilled Workers in Agriculture, Fisheries and Forestry',\n",
    "                                                                7 : 'Skilled Workers in Industry, Construction and Craftsmen',\n",
    "                                                                8 : 'Installation and Machine Operators and Assembly Workers',\n",
    "                                                                9 : 'Unskilled Workers',\n",
    "                                                                10 : 'Armed Forces Professions',\n",
    "                                                                90 : 'Other Situation',\n",
    "                                                                99 : 'blank',\n",
    "                                                                122 : 'Health professionals',\n",
    "                                                                123 : 'Teachers',\n",
    "                                                                125 : 'Specialists in information and communication technologies (ICT)',\n",
    "                                                                131 : 'Intermediate level science and engineering technicians and professions', \n",
    "                                                               132 : 'Technicians and professionals, of intermediate level of health',\n",
    "                                                                134 : 'Intermediate level technicians from legal, social, sports, cultural',\n",
    "                                                                141 : 'Office workers, secretaries in general and data processing operators', \n",
    "                                                               143 : 'Data, accounting, statistical, financial services and registry-related operators',\n",
    "                                                                144 : 'Other administrative support staff',\n",
    "                                                                151 : 'Personal service workers',\n",
    "                                                                152 : 'Sellers',\n",
    "                                                                153 : 'Personal care workers',\n",
    "                                                                171 : 'Skilled construction workers',\n",
    "                                                                173 : 'Skilled workers in printing, precision instrument manufacturing, jewelers, artisans', \n",
    "                                                                175 : 'Workers in food processing, woodworking, clothing and other industries and crafts',\n",
    "                                                                191 : 'Cleaning workers',\n",
    "                                                                192 : 'Unskilled workers in agriculture, animal production, fisheries and forestry',\n",
    "                                                                193 : 'Unskilled workers in extractive industry, construction, manufacturing and transport',\n",
    "                                                                194 : 'Meal preparation assistants'})"
   ]
  },
  {
   "cell_type": "code",
   "execution_count": 41,
   "metadata": {},
   "outputs": [
    {
     "name": "stdout",
     "output_type": "stream",
     "text": [
      "Unskilled Workers                                                                                             1577\n",
      "Administrative staff                                                                                           817\n",
      "Personal Services, Security and Safety Workers and Sellers                                                     530\n",
      "Intermediate Level Technicians and Professions                                                                 351\n",
      "Specialists in Intellectual and Scientific Activities                                                          318\n",
      "Skilled Workers in Industry, Construction and Craftsmen                                                        272\n",
      "Student                                                                                                        144\n",
      "Representatives of the Legislative Power and Executive Bodies, Directors, Directors and Executive Managers     102\n",
      "Farmers and Skilled Workers in Agriculture, Fisheries and Forestry                                              91\n",
      "Other Situation                                                                                                 70\n",
      "Installation and Machine Operators and Assembly Workers                                                         36\n",
      "Cleaning workers                                                                                                26\n",
      "blank                                                                                                           17\n",
      "Meal preparation assistants                                                                                     11\n",
      "Office workers, secretaries in general and data processing operators                                             8\n",
      "Teachers                                                                                                         7\n",
      "Other administrative support staff                                                                               6\n",
      "Workers in food processing, woodworking, clothing and other industries and crafts                                5\n",
      "Unskilled workers in agriculture, animal production, fisheries and forestry                                      5\n",
      "Unskilled workers in extractive industry, construction, manufacturing and transport                              4\n",
      "Intermediate level technicians from legal, social, sports, cultural                                              4\n",
      "Armed Forces Professions                                                                                         4\n",
      "Data, accounting, statistical, financial services and registry-related operators                                 3\n",
      "Personal service workers                                                                                         3\n",
      "Technicians and professionals, of intermediate level of health                                                   3\n",
      "Sellers                                                                                                          2\n",
      "Health professionals                                                                                             2\n",
      "Personal care workers                                                                                            2\n",
      "Skilled workers in printing, precision instrument manufacturing, jewelers, artisans                              1\n",
      "Specialists in information and communication technologies (ICT)                                                  1\n",
      "Intermediate level science and engineering technicians and professions                                           1\n",
      "Skilled construction workers                                                                                     1\n",
      "Name: Mother's occupation, dtype: int64\n"
     ]
    }
   ],
   "source": [
    "print(df[\"Mother's occupation\"].value_counts())"
   ]
  },
  {
   "cell_type": "code",
   "execution_count": 43,
   "metadata": {
    "collapsed": true
   },
   "outputs": [
    {
     "data": {
      "text/plain": [
       "9      1010\n",
       "7       666\n",
       "5       516\n",
       "4       386\n",
       "3       384\n",
       "8       318\n",
       "10      266\n",
       "6       242\n",
       "2       197\n",
       "1       134\n",
       "0       128\n",
       "90       65\n",
       "99       19\n",
       "193      15\n",
       "144       8\n",
       "171       8\n",
       "192       6\n",
       "163       5\n",
       "103       4\n",
       "175       4\n",
       "135       3\n",
       "183       3\n",
       "152       3\n",
       "123       3\n",
       "181       3\n",
       "194       2\n",
       "182       2\n",
       "112       2\n",
       "151       2\n",
       "172       2\n",
       "122       2\n",
       "102       2\n",
       "153       1\n",
       "101       1\n",
       "114       1\n",
       "174       1\n",
       "141       1\n",
       "132       1\n",
       "134       1\n",
       "143       1\n",
       "131       1\n",
       "161       1\n",
       "195       1\n",
       "121       1\n",
       "124       1\n",
       "154       1\n",
       "Name: Father's occupation, dtype: int64"
      ]
     },
     "execution_count": 43,
     "metadata": {},
     "output_type": "execute_result"
    }
   ],
   "source": [
    "df[\"Father's occupation\"].value_counts()"
   ]
  },
  {
   "cell_type": "code",
   "execution_count": 44,
   "metadata": {},
   "outputs": [],
   "source": [
    "df[\"Father's occupation\"]= df[\"Father's occupation\"].replace({ 0 : 'Student',\n",
    "                                                                1 : 'Representatives of the Legislative Power, Executive Bodies, Directors, Directors and Executive Managers',\n",
    "                                                                2 : 'Specialists in Intellectual and Scientific Activities',\n",
    "                                                                3 : 'Intermediate Level Technicians and Professions',\n",
    "                                                                4 : 'Administrative staff',\n",
    "                                                                5 : 'Personal Services, Security and Safety Workers and Sellers',\n",
    "                                                                6 : 'Farmers and Skilled Workers in Agriculture, Fisheries and Forestry',\n",
    "                                                                7 : 'Skilled Workers in Industry, Construction and Craftsmen',\n",
    "                                                                8 : 'Installation and Machine Operators and Assembly Workers',\n",
    "                                                                9 : 'Unskilled Workers',\n",
    "                                                                10 : 'Armed Forces Professions',\n",
    "                                                                90 : 'Other Situation',\n",
    "                                                                99 : 'blank',\n",
    "                                                                101 : 'Armed Forces Officers',\n",
    "                                                                102 : 'Armed Forces Sergeants',\n",
    "                                                                103 : 'Other Armed Forces personnel',\n",
    "                                                                112 : 'Directors of administrative and commercial services',\n",
    "                                                                114 : 'Hotel, catering, trade and other services directors',\n",
    "                                                                121 : 'Specialists in the physical sciences, mathematics, engineering and related techniques',\n",
    "                                                                122 : 'Health professionals',\n",
    "                                                                123 : 'Teachers',\n",
    "                                                                124 : 'Specialists in finance, accounting, administrative organization, public and commercial relations',\n",
    "                                                                131 : 'Intermediate level science and engineering technicians and professions',\n",
    "                                                              132 : 'Technicians and professionals, of intermediate level of health',\n",
    "                                                                134 : 'Intermediate level technicians from legal, social, sports, cultural and similar services',\n",
    "                                                                135 : 'Information and communication technology technicians',\n",
    "                                                                141 : 'Office workers, secretaries in general and data processing operators',\n",
    "                                                              143 : 'Data, accounting, statistical, financial services and registry-related operators',\n",
    "                                                                144 : 'Other administrative support staff',\n",
    "                                                                151 : 'Personal service workers',\n",
    "                                                                152 : 'Sellers',\n",
    "                                                                153 : 'Personal care workers',\n",
    "                                                                154 : 'Protection and security services personnel',\n",
    "                                                                161 : 'Market-oriented farmers and skilled agricultural and animal production workers',\n",
    "                                                                163 : 'Farmers, livestock keepers, fishermen, hunters and gatherers, subsistence',\n",
    "                                                                171 : 'Skilled construction workers and the like, except electricians',\n",
    "                                                                172 : 'Skilled workers in metallurgy, metalworking',\n",
    "                                                                174 : 'Skilled workers in electricity and electronics',\n",
    "                                                                175 : 'Workers in food processing, woodworking, clothing and other industries and crafts',\n",
    "                                                                181 : 'Fixed plant and machine operators',\n",
    "                                                                182 : 'Assembly workers',\n",
    "                                                                183 : 'Vehicle drivers and mobile equipment operators',\n",
    "                                                                192 : 'Unskilled workers in agriculture, animal production, fisheries and forestry',\n",
    "                                                                193 : 'Unskilled workers in extractive industry, construction, manufacturing and transport',\n",
    "                                                                194 : 'Meal preparation assistants',\n",
    "                                                                195 : 'Street vendors and street service providers'})"
   ]
  },
  {
   "cell_type": "code",
   "execution_count": 45,
   "metadata": {
    "collapsed": true
   },
   "outputs": [
    {
     "name": "stdout",
     "output_type": "stream",
     "text": [
      "Unskilled Workers                                                                                          1010\n",
      "Skilled Workers in Industry, Construction and Craftsmen                                                     666\n",
      "Personal Services, Security and Safety Workers and Sellers                                                  516\n",
      "Administrative staff                                                                                        386\n",
      "Intermediate Level Technicians and Professions                                                              384\n",
      "Installation and Machine Operators and Assembly Workers                                                     318\n",
      "Armed Forces Professions                                                                                    266\n",
      "Farmers and Skilled Workers in Agriculture, Fisheries and Forestry                                          242\n",
      "Specialists in Intellectual and Scientific Activities                                                       197\n",
      "Representatives of the Legislative Power, Executive Bodies, Directors, Directors and Executive Managers     134\n",
      "Student                                                                                                     128\n",
      "Other Situation                                                                                              65\n",
      "blank                                                                                                        19\n",
      "Unskilled workers in extractive industry, construction, manufacturing and transport                          15\n",
      "Other administrative support staff                                                                            8\n",
      "Skilled construction workers and the like, except electricians                                                8\n",
      "Unskilled workers in agriculture, animal production, fisheries and forestry                                   6\n",
      "Farmers, livestock keepers, fishermen, hunters and gatherers, subsistence                                     5\n",
      "Other Armed Forces personnel                                                                                  4\n",
      "Workers in food processing, woodworking, clothing and other industries and crafts                             4\n",
      "Information and communication technology technicians                                                          3\n",
      "Vehicle drivers and mobile equipment operators                                                                3\n",
      "Sellers                                                                                                       3\n",
      "Teachers                                                                                                      3\n",
      "Fixed plant and machine operators                                                                             3\n",
      "Meal preparation assistants                                                                                   2\n",
      "Assembly workers                                                                                              2\n",
      "Directors of administrative and commercial services                                                           2\n",
      "Personal service workers                                                                                      2\n",
      "Skilled workers in metallurgy, metalworking                                                                   2\n",
      "Health professionals                                                                                          2\n",
      "Armed Forces Sergeants                                                                                        2\n",
      "Personal care workers                                                                                         1\n",
      "Armed Forces Officers                                                                                         1\n",
      "Hotel, catering, trade and other services directors                                                           1\n",
      "Skilled workers in electricity and electronics                                                                1\n",
      "Office workers, secretaries in general and data processing operators                                          1\n",
      "Technicians and professionals, of intermediate level of health                                                1\n",
      "Intermediate level technicians from legal, social, sports, cultural and similar services                      1\n",
      "Data, accounting, statistical, financial services and registry-related operators                              1\n",
      "Intermediate level science and engineering technicians and professions                                        1\n",
      "Market-oriented farmers and skilled agricultural and animal production workers                                1\n",
      "Street vendors and street service providers                                                                   1\n",
      "Specialists in the physical sciences, mathematics, engineering and related techniques                         1\n",
      "Specialists in finance, accounting, administrative organization, public and commercial relations              1\n",
      "Protection and security services personnel                                                                    1\n",
      "Name: Father's occupation, dtype: int64\n"
     ]
    }
   ],
   "source": [
    "print(df[\"Father's occupation\"].value_counts())"
   ]
  },
  {
   "cell_type": "code",
   "execution_count": 54,
   "metadata": {},
   "outputs": [],
   "source": [
    "columns = ['Displaced','Educational special needs','Debtor','Tuition fees up to date','Scholarship holder','International']\n",
    "df[columns] = df[columns].replace({1: 'Yes',0:'No'})"
   ]
  },
  {
   "cell_type": "code",
   "execution_count": 56,
   "metadata": {},
   "outputs": [
    {
     "data": {
      "text/plain": [
       "0    2868\n",
       "1    1556\n",
       "Name: Gender, dtype: int64"
      ]
     },
     "execution_count": 56,
     "metadata": {},
     "output_type": "execute_result"
    }
   ],
   "source": [
    "df['Gender'].value_counts()"
   ]
  },
  {
   "cell_type": "code",
   "execution_count": 57,
   "metadata": {},
   "outputs": [],
   "source": [
    "df['Gender'] = df['Gender'].replace({1:'Male', 0:'Female'})"
   ]
  },
  {
   "cell_type": "code",
   "execution_count": 58,
   "metadata": {},
   "outputs": [
    {
     "name": "stdout",
     "output_type": "stream",
     "text": [
      "Female    2868\n",
      "Male      1556\n",
      "Name: Gender, dtype: int64\n"
     ]
    }
   ],
   "source": [
    "print(df['Gender'].value_counts())"
   ]
  },
  {
   "cell_type": "code",
   "execution_count": 61,
   "metadata": {},
   "outputs": [],
   "source": [
    "df = df.rename(columns = {'Unemployment rate':'Unemployment rate (%)',\n",
    "                    'Inflation rate':'Inflation rate (%)'})"
   ]
  },
  {
   "cell_type": "code",
   "execution_count": 62,
   "metadata": {},
   "outputs": [],
   "source": [
    "df = df.rename(columns = {'Target':'Course Category'})"
   ]
  },
  {
   "cell_type": "code",
   "execution_count": 64,
   "metadata": {},
   "outputs": [],
   "source": [
    "df = df.to_csv(\"~/Downloads/academicsuccess_updated.csv\")"
   ]
  },
  {
   "cell_type": "code",
   "execution_count": null,
   "metadata": {},
   "outputs": [],
   "source": []
  },
  {
   "cell_type": "code",
   "execution_count": null,
   "metadata": {},
   "outputs": [],
   "source": []
  },
  {
   "cell_type": "code",
   "execution_count": null,
   "metadata": {},
   "outputs": [],
   "source": []
  },
  {
   "cell_type": "code",
   "execution_count": null,
   "metadata": {},
   "outputs": [],
   "source": []
  },
  {
   "cell_type": "code",
   "execution_count": null,
   "metadata": {},
   "outputs": [],
   "source": []
  },
  {
   "cell_type": "code",
   "execution_count": null,
   "metadata": {},
   "outputs": [],
   "source": []
  }
 ],
 "metadata": {
  "kernelspec": {
   "display_name": "Python 3",
   "language": "python",
   "name": "python3"
  },
  "language_info": {
   "codemirror_mode": {
    "name": "ipython",
    "version": 3
   },
   "file_extension": ".py",
   "mimetype": "text/x-python",
   "name": "python",
   "nbconvert_exporter": "python",
   "pygments_lexer": "ipython3",
   "version": "3.7.9"
  }
 },
 "nbformat": 4,
 "nbformat_minor": 4
}
